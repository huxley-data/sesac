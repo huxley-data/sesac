{
 "cells": [
  {
   "cell_type": "markdown",
   "id": "6029a100-71ff-48e4-acbd-40209742fdd3",
   "metadata": {},
   "source": [
    "약수계산기"
   ]
  },
  {
   "cell_type": "code",
   "execution_count": 19,
   "id": "14ce93f0-8e1c-42c9-b029-a0e8a1d7c032",
   "metadata": {},
   "outputs": [],
   "source": [
    "def yaxu(num) :\n",
    "    \n",
    "    yaxu_list = []\n",
    "    \n",
    "    if type(num) == int or int(num) <= 0 :\n",
    "        for i in range(num+1) :\n",
    "            if i != 0 and num % i == 0 :\n",
    "                yaxu_list.append(i)\n",
    "            else :\n",
    "                pass\n",
    "        \n",
    "        return yaxu_list\n",
    "                \n",
    "    else :\n",
    "        return '자연수를 입력해주세요.'"
   ]
  },
  {
   "cell_type": "code",
   "execution_count": 20,
   "id": "b06b2540-0656-42fa-a6f9-d5df97585a44",
   "metadata": {},
   "outputs": [
    {
     "data": {
      "text/plain": [
       "[1, 2, 4, 5, 10, 20, 25, 50, 100]"
      ]
     },
     "execution_count": 20,
     "metadata": {},
     "output_type": "execute_result"
    }
   ],
   "source": [
    "yaxu(100)"
   ]
  },
  {
   "cell_type": "code",
   "execution_count": null,
   "id": "7c0d0d55-2e5a-42b5-bea6-e33c3be5b8e9",
   "metadata": {},
   "outputs": [],
   "source": [
    "list(range(10))"
   ]
  },
  {
   "cell_type": "markdown",
   "id": "b23ca495-0ab9-463c-bea1-17d39241257f",
   "metadata": {},
   "source": [
    "소수계산기"
   ]
  },
  {
   "cell_type": "code",
   "execution_count": null,
   "id": "77471b56-33a1-4eac-ab50-f873cbc0dcbe",
   "metadata": {},
   "outputs": [],
   "source": [
    "list_a=[]\n",
    "list_a.append(10)"
   ]
  },
  {
   "cell_type": "code",
   "execution_count": 21,
   "id": "557567a7-1005-4f77-9857-6c77edd0734f",
   "metadata": {},
   "outputs": [],
   "source": [
    "def sosu(num) :\n",
    "    \n",
    "    sosu_list = []\n",
    "    yaxu_list = []\n",
    "    \n",
    "    if type(num) == int or int(num) <= 0 :\n",
    "        for i in range(num+1) :\n",
    "            if i != 0 and num % i == 0 :\n",
    "                yaxu_list.append(i)\n",
    "                if len(yaxu_list) == 2 :\n",
    "                    sosu_list.append(i)\n",
    "                else :\n",
    "                    pass\n",
    "            else :\n",
    "                pass\n",
    "        \n",
    "        return sosu_list\n",
    "                \n",
    "    else :\n",
    "        return '자연수를 입력해주세요.'"
   ]
  },
  {
   "cell_type": "code",
   "execution_count": 22,
   "id": "5b3ec124-a046-4f3a-8e91-0ff538230548",
   "metadata": {},
   "outputs": [
    {
     "data": {
      "text/plain": [
       "[2]"
      ]
     },
     "execution_count": 22,
     "metadata": {},
     "output_type": "execute_result"
    }
   ],
   "source": [
    "sosu(100)"
   ]
  },
  {
   "cell_type": "code",
   "execution_count": null,
   "id": "77a95cb0-58a7-430b-af72-ee4a6e409d94",
   "metadata": {},
   "outputs": [],
   "source": []
  }
 ],
 "metadata": {
  "kernelspec": {
   "display_name": "Python 3 (ipykernel)",
   "language": "python",
   "name": "python3"
  },
  "language_info": {
   "codemirror_mode": {
    "name": "ipython",
    "version": 3
   },
   "file_extension": ".py",
   "mimetype": "text/x-python",
   "name": "python",
   "nbconvert_exporter": "python",
   "pygments_lexer": "ipython3",
   "version": "3.9.12"
  }
 },
 "nbformat": 4,
 "nbformat_minor": 5
}
